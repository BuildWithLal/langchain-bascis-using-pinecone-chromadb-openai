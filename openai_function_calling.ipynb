{
 "cells": [
  {
   "cell_type": "code",
   "execution_count": 1,
   "id": "07acc2df-ddd4-454b-9948-a64daae25235",
   "metadata": {},
   "outputs": [],
   "source": [
    "import os\n",
    "from dotenv import load_dotenv"
   ]
  },
  {
   "cell_type": "code",
   "execution_count": 2,
   "id": "d348afd7-7ad2-4826-b223-d4ad41d72fd6",
   "metadata": {},
   "outputs": [
    {
     "data": {
      "text/plain": [
       "True"
      ]
     },
     "execution_count": 2,
     "metadata": {},
     "output_type": "execute_result"
    }
   ],
   "source": [
    "load_dotenv()"
   ]
  },
  {
   "cell_type": "code",
   "execution_count": 3,
   "id": "270e9202-1a37-4c02-9322-03cb87b4e880",
   "metadata": {},
   "outputs": [],
   "source": [
    "#os.getenv('OPENAI_API_KEY')"
   ]
  },
  {
   "cell_type": "code",
   "execution_count": 4,
   "id": "1ddba9af-a9e7-4284-a3b8-20e106588884",
   "metadata": {},
   "outputs": [],
   "source": [
    "import json\n",
    "from openai import OpenAI"
   ]
  },
  {
   "cell_type": "code",
   "execution_count": 5,
   "id": "0e924d03-c05b-415b-9d58-d6e6f2185cac",
   "metadata": {},
   "outputs": [],
   "source": [
    "client = OpenAI()"
   ]
  },
  {
   "cell_type": "markdown",
   "id": "31856b99-33a0-4988-9db9-2f03cb5248fe",
   "metadata": {},
   "source": [
    "### Function Calling\n",
    "connect large language models to external tools"
   ]
  },
  {
   "cell_type": "code",
   "execution_count": 6,
   "id": "b42d3ab8-27fd-4a88-a91c-a26a3024124b",
   "metadata": {},
   "outputs": [
    {
     "data": {
      "text/plain": [
       "{'year': 1975, 'winner_team': 'West Indies', 'runner_up_team': 'Australia'}"
      ]
     },
     "execution_count": 6,
     "metadata": {},
     "output_type": "execute_result"
    }
   ],
   "source": [
    "prompt = f'''\n",
    "please extract the following information from the given text in JSON format.\n",
    "\n",
    "year\n",
    "winner_team\n",
    "runner_up_team\n",
    "\n",
    "Information:\n",
    "First cricket worldcup was played in 1975 between West Indies and Australia. This worldcup was won by West Indies.\n",
    "'''\n",
    "response = client.chat.completions.create(\n",
    "    model=\"gpt-3.5-turbo\",\n",
    "    max_tokens=50,\n",
    "    messages=[\n",
    "        {\n",
    "            \"role\": \"user\",\n",
    "            \"content\": prompt,\n",
    "        }\n",
    "    ]\n",
    ")\n",
    "json.loads(response.choices[0].message.content)"
   ]
  },
  {
   "cell_type": "markdown",
   "id": "e8022510-6b46-4c52-aad9-c0a6a814048e",
   "metadata": {},
   "source": [
    "#### Same as above but using Function Calling"
   ]
  },
  {
   "cell_type": "code",
   "execution_count": 9,
   "id": "6435859d-937d-46a0-85c4-40ef21df9df2",
   "metadata": {},
   "outputs": [
    {
     "data": {
      "text/plain": [
       "ChatCompletionMessage(content=None, role='assistant', function_call=FunctionCall(arguments='{}', name='extract_details'), tool_calls=None)"
      ]
     },
     "execution_count": 9,
     "metadata": {},
     "output_type": "execute_result"
    }
   ],
   "source": [
    "functions = [\n",
    "    {\n",
    "        \"name\": \"extract_details\",\n",
    "        \"parameters\": {\n",
    "            \"type\": \"object\",\n",
    "            \"properties\": {\n",
    "                \"year\": {\"type\": \"integer\"},\n",
    "                \"winner_team\": {\"type\": \"string\"},\n",
    "                \"runner_up_team\": {\"type\": \"string\"},\n",
    "            }\n",
    "        }\n",
    "    }\n",
    "]\n",
    "response = client.chat.completions.create(\n",
    "    model=\"gpt-3.5-turbo\",\n",
    "    max_tokens=50,\n",
    "    functions=functions,\n",
    "    function_call=\"auto\",\n",
    "    messages=[\n",
    "        {\n",
    "            \"role\": \"user\",\n",
    "            \"content\": prompt,\n",
    "        }\n",
    "    ]\n",
    ")\n",
    "response.choices[0].message\n",
    "\n",
    "# expects a function call named extract_details()"
   ]
  },
  {
   "cell_type": "markdown",
   "id": "9826c320-d6ce-41ea-ba26-df7c5569fc65",
   "metadata": {},
   "source": [
    "### Inline function call"
   ]
  },
  {
   "cell_type": "code",
   "execution_count": 13,
   "id": "0c49a9f1-2f2b-4e87-bd9d-8008e4774a7b",
   "metadata": {},
   "outputs": [
    {
     "name": "stdout",
     "output_type": "stream",
     "text": [
      "ChatCompletionMessage(content='The next cricket match between Pakistan and India is scheduled for July 7, 2024 at 14:57:25.549069 UTC.', role='assistant', function_call=None, tool_calls=None)\n",
      "The next cricket match between Pakistan and India is scheduled for July 7, 2024 at 14:57:25.549069 UTC.\n"
     ]
    }
   ],
   "source": [
    "from datetime import datetime, timedelta\n",
    "\n",
    "prompt = \"when is the next cricket match between pakistan and india?\"\n",
    "\n",
    "def get_next_match(team1: str, team2: str):\n",
    "    # dummy function to return next match date between two teams. this could be replaced with espncricinfo api to get real data\n",
    "    return json.dumps({\"team1\": team1, \"team2\": team2, \"next_match_date\": str(datetime.today() + timedelta(days=7))})\n",
    "\n",
    "functions = [\n",
    "    {\n",
    "        \"name\": \"get_next_match\",\n",
    "        \"parameters\": {\n",
    "            \"type\": \"object\",\n",
    "            \"properties\": {\n",
    "                \"team1\": {\"type\": \"string\"},\n",
    "                \"team2\": {\"type\": \"string\"},\n",
    "                \"next_match_date\": {\"type\": \"string\"},\n",
    "            },\n",
    "            \"required\": [\"team1\", \"team2\"]\n",
    "        }\n",
    "    }\n",
    "]\n",
    "\n",
    "response1 = client.chat.completions.create(\n",
    "    model=\"gpt-3.5-turbo\",\n",
    "    max_tokens=50,\n",
    "    functions=functions,\n",
    "    function_call=\"auto\",\n",
    "    messages=[\n",
    "        {\"role\": \"user\", \"content\": prompt}\n",
    "    ]\n",
    ")\n",
    "params = json.loads(response1.choices[0].message.function_call.arguments)\n",
    "get_next_match_func = eval(response1.choices[0].message.function_call.name)(**params)\n",
    "\n",
    "response2 = client.chat.completions.create(\n",
    "    model=\"gpt-3.5-turbo\",\n",
    "    max_tokens=50,\n",
    "    functions=functions,\n",
    "    function_call=\"auto\",\n",
    "    messages=[\n",
    "        {\"role\": \"user\", \"content\": prompt},\n",
    "        {\"role\": \"function\", \"name\": response1.choices[0].message.function_call.name, \"content\": get_next_match_func}\n",
    "    ]\n",
    ")\n",
    "\n",
    "print(response2.choices[0].message)\n",
    "print(response2.choices[0].message.content)"
   ]
  },
  {
   "cell_type": "code",
   "execution_count": null,
   "id": "060570cf-aae7-4e28-9451-7ab47bc84fbb",
   "metadata": {},
   "outputs": [],
   "source": []
  }
 ],
 "metadata": {
  "kernelspec": {
   "display_name": "Python 3 (ipykernel)",
   "language": "python",
   "name": "python3"
  },
  "language_info": {
   "codemirror_mode": {
    "name": "ipython",
    "version": 3
   },
   "file_extension": ".py",
   "mimetype": "text/x-python",
   "name": "python",
   "nbconvert_exporter": "python",
   "pygments_lexer": "ipython3",
   "version": "3.10.12"
  }
 },
 "nbformat": 4,
 "nbformat_minor": 5
}
