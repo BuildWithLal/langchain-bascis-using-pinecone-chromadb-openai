{
 "cells": [
  {
   "cell_type": "code",
   "execution_count": 1,
   "id": "07acc2df-ddd4-454b-9948-a64daae25235",
   "metadata": {},
   "outputs": [],
   "source": [
    "import os\n",
    "from dotenv import load_dotenv"
   ]
  },
  {
   "cell_type": "code",
   "execution_count": 2,
   "id": "d348afd7-7ad2-4826-b223-d4ad41d72fd6",
   "metadata": {},
   "outputs": [
    {
     "data": {
      "text/plain": [
       "True"
      ]
     },
     "execution_count": 2,
     "metadata": {},
     "output_type": "execute_result"
    }
   ],
   "source": [
    "load_dotenv()"
   ]
  },
  {
   "cell_type": "code",
   "execution_count": 3,
   "id": "270e9202-1a37-4c02-9322-03cb87b4e880",
   "metadata": {},
   "outputs": [],
   "source": [
    "#os.getenv('OPENAI_API_KEY')"
   ]
  },
  {
   "cell_type": "markdown",
   "id": "65271992-28e1-42f6-a40a-beaaf11a3293",
   "metadata": {},
   "source": [
    "### OpenAI Using LangChain"
   ]
  },
  {
   "cell_type": "code",
   "execution_count": 16,
   "id": "ff753b67-8fe3-40f0-b047-4e8f652507f9",
   "metadata": {},
   "outputs": [
    {
     "data": {
      "text/plain": [
       "'There are 48 countries in Asia.'"
      ]
     },
     "execution_count": 16,
     "metadata": {},
     "output_type": "execute_result"
    }
   ],
   "source": [
    "from langchain_openai import OpenAI\n",
    "client = OpenAI(max_tokens=50)\n",
    "prompt = \"how many countries are in Asia?\"\n",
    "client.invoke(prompt).strip()"
   ]
  },
  {
   "cell_type": "code",
   "execution_count": null,
   "id": "d1cdd918-97d2-4cdf-b50c-75b9a1705b90",
   "metadata": {},
   "outputs": [],
   "source": []
  },
  {
   "cell_type": "code",
   "execution_count": 5,
   "id": "614eec6b-cb69-486c-b50d-57c62a27823c",
   "metadata": {},
   "outputs": [],
   "source": [
    "from langchain_openai import ChatOpenAI"
   ]
  },
  {
   "cell_type": "code",
   "execution_count": 6,
   "id": "7d96eb67-9dbf-49b7-be07-5017b9c6cdb2",
   "metadata": {},
   "outputs": [],
   "source": [
    "chat = ChatOpenAI(model=\"gpt-3.5-turbo\", max_tokens=50)"
   ]
  },
  {
   "cell_type": "code",
   "execution_count": 7,
   "id": "ac61cde0-800f-4732-8fc8-c93b255f85af",
   "metadata": {},
   "outputs": [
    {
     "data": {
      "text/plain": [
       "'Salut!'"
      ]
     },
     "execution_count": 7,
     "metadata": {},
     "output_type": "execute_result"
    }
   ],
   "source": [
    "from langchain_core.messages import HumanMessage, SystemMessage\n",
    "\n",
    "messages = [\n",
    "    SystemMessage(content=\"Translate the following from English into French\"),\n",
    "    HumanMessage(content=\"hi!\"),\n",
    "]\n",
    "\n",
    "result = chat.invoke(messages)\n",
    "result.content"
   ]
  },
  {
   "cell_type": "code",
   "execution_count": 8,
   "id": "c2ebcfa2-6191-4adb-a4fe-1100584d4eb4",
   "metadata": {},
   "outputs": [
    {
     "data": {
      "text/plain": [
       "7"
      ]
     },
     "execution_count": 8,
     "metadata": {},
     "output_type": "execute_result"
    }
   ],
   "source": [
    "chat.get_num_tokens(\"Translate the following from English into French\")"
   ]
  },
  {
   "cell_type": "markdown",
   "id": "01739a0d-f2d9-47dd-b191-dc909c4b671b",
   "metadata": {},
   "source": [
    "### Prompt Templates"
   ]
  },
  {
   "cell_type": "code",
   "execution_count": 9,
   "id": "9d94ca24-65f7-4068-a4ec-e8752559e5c5",
   "metadata": {},
   "outputs": [],
   "source": [
    "from langchain import PromptTemplate\n",
    "from langchain.llms import OpenAI"
   ]
  },
  {
   "cell_type": "code",
   "execution_count": 10,
   "id": "36d0b550-e7a0-4047-b052-824e504abc0b",
   "metadata": {},
   "outputs": [
    {
     "data": {
      "text/plain": [
       "'You are a nutritionist. How many calories in 2 bananas'"
      ]
     },
     "execution_count": 10,
     "metadata": {},
     "output_type": "execute_result"
    }
   ],
   "source": [
    "template = '''You are a nutritionist. How many calories in {count} {food_name}'''\n",
    "prompt = PromptTemplate(\n",
    "    input_variables=['count', 'food_name'],\n",
    "    template=template\n",
    ")\n",
    "prompt.format(count=2, food_name=\"bananas\")"
   ]
  },
  {
   "cell_type": "code",
   "execution_count": null,
   "id": "b7f13509-b686-46b1-ae74-cb9ac514c1c4",
   "metadata": {},
   "outputs": [],
   "source": []
  },
  {
   "cell_type": "code",
   "execution_count": 11,
   "id": "190e6c5f-95c8-4618-8cdd-bee8acd0d15d",
   "metadata": {},
   "outputs": [
    {
     "data": {
      "text/plain": [
       "'There are approximately 200 calories in 2 medium-sized bananas.'"
      ]
     },
     "execution_count": 11,
     "metadata": {},
     "output_type": "execute_result"
    }
   ],
   "source": [
    "llm = OpenAI(max_tokens=50)\n",
    "result = llm.invoke(prompt.format(count=2, food_name='banana'))\n",
    "result.strip()"
   ]
  },
  {
   "cell_type": "code",
   "execution_count": null,
   "id": "44fbb1f4-6148-4126-9743-b3995047a9c0",
   "metadata": {},
   "outputs": [],
   "source": []
  },
  {
   "cell_type": "code",
   "execution_count": 12,
   "id": "33271f39-d7bc-4b43-8170-b70e1eb53177",
   "metadata": {},
   "outputs": [
    {
     "data": {
      "text/plain": [
       "'The number of calories in 5 apples can vary depending on the size and type of apple, but on average, 5 medium-sized apples would contain approximately 400-500 calories.'"
      ]
     },
     "execution_count": 12,
     "metadata": {},
     "output_type": "execute_result"
    }
   ],
   "source": [
    "result = llm.invoke(prompt.format(count=5, food_name='apples'))\n",
    "result.strip()"
   ]
  },
  {
   "cell_type": "code",
   "execution_count": null,
   "id": "b42d3ab8-27fd-4a88-a91c-a26a3024124b",
   "metadata": {},
   "outputs": [],
   "source": []
  },
  {
   "cell_type": "markdown",
   "id": "ff484203-9ade-4aef-8ec7-1de2774601b0",
   "metadata": {},
   "source": [
    "### Prompt Template Alternate Way"
   ]
  },
  {
   "cell_type": "code",
   "execution_count": 13,
   "id": "e75567cf-208d-46bf-bd2f-e539d9daa0e6",
   "metadata": {},
   "outputs": [
    {
     "data": {
      "text/plain": [
       "'You are a nutritionist. How many calories in 2 bananas'"
      ]
     },
     "execution_count": 13,
     "metadata": {},
     "output_type": "execute_result"
    }
   ],
   "source": [
    "prompt = PromptTemplate.from_template(\"You are a nutritionist. How many calories in {count} {food_name}\")\n",
    "prompt.format(count=2, food_name=\"bananas\")"
   ]
  },
  {
   "cell_type": "code",
   "execution_count": 14,
   "id": "6bd7f048-92bb-480d-9e2d-86799d0a13dc",
   "metadata": {},
   "outputs": [
    {
     "data": {
      "text/plain": [
       "'On average, there are approximately 60-80 calories in one medium-sized orange (130 grams). However, the exact number of calories may vary depending on the size and type of orange.'"
      ]
     },
     "execution_count": 14,
     "metadata": {},
     "output_type": "execute_result"
    }
   ],
   "source": [
    "result = llm.invoke(prompt.format(count=1, food_name='orange'))\n",
    "result.strip()"
   ]
  },
  {
   "cell_type": "code",
   "execution_count": 15,
   "id": "7a472a17-488f-438b-af76-f5ea1436f7bd",
   "metadata": {},
   "outputs": [
    {
     "data": {
      "text/plain": [
       "'According to the USDA, there are approximately 3 calories in 3 grapes. However, this may vary slightly depending on the size and variety of the grapes.'"
      ]
     },
     "execution_count": 15,
     "metadata": {},
     "output_type": "execute_result"
    }
   ],
   "source": [
    "result = llm.invoke(prompt.format(count=3, food_name='grapes'))\n",
    "result.strip()"
   ]
  },
  {
   "cell_type": "code",
   "execution_count": null,
   "id": "cfd59a1c-b91f-4b5b-99f0-b922e49a80fe",
   "metadata": {},
   "outputs": [],
   "source": []
  },
  {
   "cell_type": "code",
   "execution_count": null,
   "id": "2391bbd8-71e3-4f0e-880f-cc97c5827876",
   "metadata": {},
   "outputs": [],
   "source": []
  },
  {
   "cell_type": "code",
   "execution_count": null,
   "id": "03fd3531-2fff-444b-b709-2df4c4451db6",
   "metadata": {},
   "outputs": [],
   "source": []
  }
 ],
 "metadata": {
  "kernelspec": {
   "display_name": "Python 3 (ipykernel)",
   "language": "python",
   "name": "python3"
  },
  "language_info": {
   "codemirror_mode": {
    "name": "ipython",
    "version": 3
   },
   "file_extension": ".py",
   "mimetype": "text/x-python",
   "name": "python",
   "nbconvert_exporter": "python",
   "pygments_lexer": "ipython3",
   "version": "3.10.12"
  }
 },
 "nbformat": 4,
 "nbformat_minor": 5
}
