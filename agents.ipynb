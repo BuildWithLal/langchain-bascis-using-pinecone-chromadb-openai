{
 "cells": [
  {
   "cell_type": "code",
   "execution_count": 7,
   "id": "07acc2df-ddd4-454b-9948-a64daae25235",
   "metadata": {},
   "outputs": [],
   "source": [
    "import os\n",
    "from dotenv import load_dotenv"
   ]
  },
  {
   "cell_type": "code",
   "execution_count": 8,
   "id": "d348afd7-7ad2-4826-b223-d4ad41d72fd6",
   "metadata": {},
   "outputs": [
    {
     "data": {
      "text/plain": [
       "True"
      ]
     },
     "execution_count": 8,
     "metadata": {},
     "output_type": "execute_result"
    }
   ],
   "source": [
    "load_dotenv()"
   ]
  },
  {
   "cell_type": "code",
   "execution_count": 10,
   "id": "270e9202-1a37-4c02-9322-03cb87b4e880",
   "metadata": {},
   "outputs": [],
   "source": [
    "# os.getenv('OPENAI_API_KEY')"
   ]
  },
  {
   "cell_type": "code",
   "execution_count": 22,
   "id": "d5824715-0736-4066-a006-3e43b35377c9",
   "metadata": {},
   "outputs": [
    {
     "name": "stderr",
     "output_type": "stream",
     "text": [
      "/home/lal/dev/practice/langchain-basics-using-pinecone-chromadb-openai/.venv/lib/python3.10/site-packages/langchain_core/_api/deprecation.py:139: LangChainDeprecationWarning: The class `OpenAI` was deprecated in LangChain 0.0.10 and will be removed in 0.3.0. An updated version of the class exists in the langchain-openai package and should be used instead. To use it run `pip install -U langchain-openai` and import as `from langchain_openai import OpenAI`.\n",
      "  warn_deprecated(\n"
     ]
    }
   ],
   "source": [
    "from langchain.llms import OpenAI\n",
    "from langchain.agents import AgentType, load_tools, initialize_agent\n",
    "client = OpenAI(max_tokens=50)"
   ]
  },
  {
   "cell_type": "markdown",
   "id": "df664ffb-c8b9-4c2a-bb8e-b9959432ac88",
   "metadata": {},
   "source": [
    "### Agent Using SERP API"
   ]
  },
  {
   "cell_type": "code",
   "execution_count": 24,
   "id": "2391bbd8-71e3-4f0e-880f-cc97c5827876",
   "metadata": {},
   "outputs": [
    {
     "name": "stdout",
     "output_type": "stream",
     "text": [
      "\n",
      "\n",
      "\u001b[1m> Entering new AgentExecutor chain...\u001b[0m\n",
      "\u001b[32;1m\u001b[1;3m It would be helpful to search for recent news articles about the World Cup\n",
      "Action: Search\n",
      "Action Input: \"World Cup winner\"\u001b[0m\n",
      "Observation: \u001b[36;1m\u001b[1;3mSpain women's national football team\u001b[0m\n",
      "Thought:\u001b[32;1m\u001b[1;3m That search query wasn't specific enough, let me try again\n",
      "Action: Search\n",
      "Action Input: \"2018 World Cup winner\"\u001b[0m\n",
      "Observation: \u001b[36;1m\u001b[1;3mFrance national football team\u001b[0m\n",
      "Thought:\u001b[32;1m\u001b[1;3m I should verify this information with another source\n",
      "Action: Search\n",
      "Action Input: \"2018 World Cup winner\"\u001b[0m\n",
      "Observation: \u001b[36;1m\u001b[1;3mFrance national football team\u001b[0m\n",
      "Thought:\u001b[32;1m\u001b[1;3m This seems to be the consensus, but let me double check\n",
      "Action: Search\n",
      "Action Input: \"2018 World Cup winner\"\u001b[0m\n",
      "Observation: \u001b[36;1m\u001b[1;3mFrance national football team\u001b[0m\n",
      "Thought:\u001b[32;1m\u001b[1;3m I now know the final answer\n",
      "Final Answer: The France national football team won the 2018 World Cup.\u001b[0m\n",
      "\n",
      "\u001b[1m> Finished chain.\u001b[0m\n"
     ]
    },
    {
     "data": {
      "text/plain": [
       "{'input': 'Which country has won the last football World Cup?',\n",
       " 'output': 'The France national football team won the 2018 World Cup.'}"
      ]
     },
     "execution_count": 24,
     "metadata": {},
     "output_type": "execute_result"
    }
   ],
   "source": [
    "tool = load_tools([\"serpapi\"], llm=client)\n",
    "agent = initialize_agent(tool, client, agent=AgentType.ZERO_SHOT_REACT_DESCRIPTION, verbose=True)\n",
    "agent.invoke(\"Which country has won the last football World Cup?\")"
   ]
  },
  {
   "cell_type": "markdown",
   "id": "50fe238d-6d4d-4356-99b8-05cf0a18cfaf",
   "metadata": {},
   "source": [
    "### Agent Using Wikipedia"
   ]
  },
  {
   "cell_type": "code",
   "execution_count": 26,
   "id": "0a03c0bb-cceb-432b-bfec-cd8dc7224c70",
   "metadata": {},
   "outputs": [
    {
     "name": "stdout",
     "output_type": "stream",
     "text": [
      "\n",
      "\n",
      "\u001b[1m> Entering new AgentExecutor chain...\u001b[0m\n",
      "\u001b[32;1m\u001b[1;3m I can use wikipedia to find information about the recent football worldcup final.\n",
      "Action: wikipedia\n",
      "Action Input: recent football worldcup final\u001b[0m\n",
      "Observation: \u001b[36;1m\u001b[1;3mPage: Jordan national football team\n",
      "Summary: The Jordan national football team (Arabic: المنتخب الأردني لكرة القدم) represents Jordan in international football and is controlled by the Jordan Football Association. Jordan have never qualified for the World Cup finals but have appeared five times in the Asian Cup and reached the final match of a major tournament for the first time in the 2023 edition, finishing as runners-up for the first time.\n",
      "Jordan is a two-time champion of the Arab Games, in 1997 and 1999. They have reached the WAFF Championship final on three occasions but have never won it. Jordan have hosted the WAFF Championship three times, in 2000, 2007, and 2010; the Arab Cup once, in 1988; and the Arab Games once, in 1999.\n",
      "\n",
      "\n",
      "\n",
      "Page: 1954 FIFA World Cup\n",
      "Summary: The 1954 FIFA World Cup was the fifth edition of the FIFA World Cup, the quadrennial international football tournament for senior men's national teams of the nations affiliated to FIFA. It was held in Switzerland from 16 June to 4 July. Switzerland was selected as the host country in July 1946. At the tournament, several all-time records for goal-scoring were set, including the highest average number of goals scored per game. The tournament was won by West Germany, who defeated tournament favourites Hungary 3–2 in the final for their first World Cup title. Uruguay the defending champions were eliminated by Hungary and would lose to Austria in the third-place match.\n",
      "The highest scoring match of a World cup happened in the Quarterfinals of this tournament, when Austria defeated hosts Switzerland 7-5. The 12 goals of that match has never been surpassed in a World Cup since.\n",
      "\n",
      "Page: 2014 FIFA World Cup\n",
      "Summary: The 2014 FIFA World Cup was the 20th FIFA World Cup, the quadrennial world championship for men's national football teams organised by FIFA. It took place in Brazil from 12 June to 13 July 2014, after the country was awarded the hosting rights in 2007. It was the second time that Brazil staged the competition, the first being in 1950, and the fifth time that it was held in South America. Fans and pundits alike consider this edition of the World Cup to be one of the best ever held.\n",
      "31 national teams advanced through qualification competitions to join the host nation in the final tournament (with Bosnia and Herzegovina as the only debutant). A total of 64 matches were played in 12 venues located in as many host cities across Brazil. For the first time at a World Cup finals, match officials used goal-line technology, as well as vanishing spray for free kicks. FIFA Fan Fests in each host city gathered a total of 5 million people, and the country received 1 million visitors from 202 countries. Spain, the defending champions, were eliminated at the group stage. Host nation Brazil, who had won the 2013 FIFA Confederations Cup, lost to Germany 7–1 in the semi-finals and eventually finished in fourth place.\n",
      "In the final, Germany defeated Argentina 1–0 after extra time thanks to a Mario Götze half-volley in the 113th minute of the final to win the tournament and secure the country's fourth world title, the first after German reunification in 1990, when as West Germany they also beat Argentina by the same score in 90 minutes in the World Cup final. Germany became the first European team to win a World Cup staged in the Americas, and this result marked the third consecutive title won by a European team, after Italy in 2006 and Spain in 2010.\u001b[0m\n",
      "Thought:\u001b[32;1m\u001b[1;3m I now know the final answer\n",
      "Final Answer: The 2014 FIFA World Cup was held in Brazil from 12 June to 13 July 2014 and was won by Germany, defeating Argentina 1-0 in the final. It was\u001b[0m\n",
      "\n",
      "\u001b[1m> Finished chain.\u001b[0m\n"
     ]
    },
    {
     "data": {
      "text/plain": [
       "{'input': 'Can you add some more details about recent footbal worldcup final in a single paragraph?',\n",
       " 'output': 'The 2014 FIFA World Cup was held in Brazil from 12 June to 13 July 2014 and was won by Germany, defeating Argentina 1-0 in the final. It was'}"
      ]
     },
     "execution_count": 26,
     "metadata": {},
     "output_type": "execute_result"
    }
   ],
   "source": [
    "tool = load_tools([\"wikipedia\"], llm=client)\n",
    "agent = initialize_agent(tool, client, agent=AgentType.ZERO_SHOT_REACT_DESCRIPTION, verbose=True)\n",
    "agent.invoke(\"Can you add some more details about recent footbal worldcup final in a single paragraph?\")"
   ]
  },
  {
   "cell_type": "code",
   "execution_count": null,
   "id": "d8ec0f61-2fd9-4c90-940d-43c64b3ba4ca",
   "metadata": {},
   "outputs": [],
   "source": []
  }
 ],
 "metadata": {
  "kernelspec": {
   "display_name": "Python 3 (ipykernel)",
   "language": "python",
   "name": "python3"
  },
  "language_info": {
   "codemirror_mode": {
    "name": "ipython",
    "version": 3
   },
   "file_extension": ".py",
   "mimetype": "text/x-python",
   "name": "python",
   "nbconvert_exporter": "python",
   "pygments_lexer": "ipython3",
   "version": "3.10.12"
  }
 },
 "nbformat": 4,
 "nbformat_minor": 5
}
