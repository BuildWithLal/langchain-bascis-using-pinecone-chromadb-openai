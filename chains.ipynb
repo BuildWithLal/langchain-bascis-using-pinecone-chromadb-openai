{
 "cells": [
  {
   "cell_type": "code",
   "execution_count": 1,
   "id": "07acc2df-ddd4-454b-9948-a64daae25235",
   "metadata": {},
   "outputs": [],
   "source": [
    "import os\n",
    "import json\n",
    "from dotenv import load_dotenv"
   ]
  },
  {
   "cell_type": "code",
   "execution_count": 2,
   "id": "d348afd7-7ad2-4826-b223-d4ad41d72fd6",
   "metadata": {},
   "outputs": [
    {
     "data": {
      "text/plain": [
       "True"
      ]
     },
     "execution_count": 2,
     "metadata": {},
     "output_type": "execute_result"
    }
   ],
   "source": [
    "load_dotenv()"
   ]
  },
  {
   "cell_type": "code",
   "execution_count": 3,
   "id": "270e9202-1a37-4c02-9322-03cb87b4e880",
   "metadata": {},
   "outputs": [],
   "source": [
    "#os.getenv('OPENAI_API_KEY')"
   ]
  },
  {
   "cell_type": "code",
   "execution_count": 4,
   "id": "d5824715-0736-4066-a006-3e43b35377c9",
   "metadata": {},
   "outputs": [],
   "source": [
    "from langchain_openai import OpenAI\n",
    "from langchain.prompts import PromptTemplate\n",
    "from langchain.chains import LLMChain\n",
    "client = OpenAI(max_tokens=50)"
   ]
  },
  {
   "cell_type": "markdown",
   "id": "2a736f57-da4e-47f4-adc3-1fb9c0675efc",
   "metadata": {},
   "source": [
    "### Individual Chain"
   ]
  },
  {
   "cell_type": "code",
   "execution_count": 5,
   "id": "d8ec0f61-2fd9-4c90-940d-43c64b3ba4ca",
   "metadata": {},
   "outputs": [
    {
     "name": "stderr",
     "output_type": "stream",
     "text": [
      "/home/lal/dev/practice/langchain-basics-using-pinecone-chromadb-openai/.venv/lib/python3.10/site-packages/langchain_core/_api/deprecation.py:139: LangChainDeprecationWarning: The class `LLMChain` was deprecated in LangChain 0.1.17 and will be removed in 0.3.0. Use RunnableSequence, e.g., `prompt | llm` instead.\n",
      "  warn_deprecated(\n"
     ]
    },
    {
     "name": "stdout",
     "output_type": "stream",
     "text": [
      "\n",
      "\n",
      "\u001b[1m> Entering new LLMChain chain...\u001b[0m\n",
      "Prompt after formatting:\n",
      "\u001b[32;1m\u001b[1;3mSuggest me a good company name making footballs\u001b[0m\n",
      "\n",
      "\u001b[1m> Finished chain.\u001b[0m\n"
     ]
    },
    {
     "data": {
      "text/plain": [
       "{'product': 'footballs',\n",
       " 'text': '\\n\\n1. GoalMaster\\n2. KickNation\\n3. BallBlitz\\n4. ScoreStrike\\n5. FieldFever\\n6. ProPlay\\n7. NetNation\\n8. Touchline Traders\\n9. The Football Factory'}"
      ]
     },
     "execution_count": 5,
     "metadata": {},
     "output_type": "execute_result"
    }
   ],
   "source": [
    "prompt = PromptTemplate.from_template(\"Suggest me a good company name making {product}\")\n",
    "chain = LLMChain(llm=client, prompt=prompt, verbose=True)\n",
    "chain.invoke(\"footballs\")"
   ]
  },
  {
   "cell_type": "code",
   "execution_count": 6,
   "id": "0bf13956-b628-49a8-b5a3-8975e50d6da3",
   "metadata": {},
   "outputs": [
    {
     "name": "stdout",
     "output_type": "stream",
     "text": [
      "\n",
      "\n",
      "\u001b[1m> Entering new LLMChain chain...\u001b[0m\n",
      "Prompt after formatting:\n",
      "\u001b[32;1m\u001b[1;3mSuggest me a good company name making orange juice\u001b[0m\n",
      "\n",
      "\u001b[1m> Finished chain.\u001b[0m\n"
     ]
    },
    {
     "data": {
      "text/plain": [
       "{'product': 'orange juice',\n",
       " 'text': '\\n\\n1. ZestyOrange Co.\\n2. Squeeze & Savor\\n3. Freshly Pressed\\n4. Orange Crush Co.\\n5. Citrus Bliss\\n6. Juicy Delight Co.\\n7. Sunny Sips\\n8'}"
      ]
     },
     "execution_count": 6,
     "metadata": {},
     "output_type": "execute_result"
    }
   ],
   "source": [
    "chain.invoke(\"orange juice\")"
   ]
  },
  {
   "cell_type": "markdown",
   "id": "a8f58384-3556-4a3a-9c6f-2167f18318b7",
   "metadata": {},
   "source": [
    "### Multiple Chains using Simple Sequential Chaining"
   ]
  },
  {
   "cell_type": "code",
   "execution_count": 7,
   "id": "f1214de9-f189-43f1-8111-cf393274e44b",
   "metadata": {},
   "outputs": [],
   "source": [
    "from langchain.chains import SimpleSequentialChain\n",
    "client = OpenAI(max_tokens=100)"
   ]
  },
  {
   "cell_type": "code",
   "execution_count": 8,
   "id": "9251e0a2-d8db-4e86-bc25-bb3a37716690",
   "metadata": {},
   "outputs": [],
   "source": [
    "company_name_prompt = PromptTemplate.from_template(\"Suggest me a company name for making {product}\")\n",
    "company_name_chain = LLMChain(llm=client, prompt=company_name_prompt)"
   ]
  },
  {
   "cell_type": "code",
   "execution_count": 9,
   "id": "e33b2e52-6992-471e-a00a-4e20b7bd1cf6",
   "metadata": {},
   "outputs": [],
   "source": [
    "company_strategies_prompt = PromptTemplate.from_template(\"Suggest few strategies for the this company {company}\")\n",
    "company_strategies_chain = LLMChain(llm=client, prompt=company_strategies_prompt)"
   ]
  },
  {
   "cell_type": "code",
   "execution_count": 10,
   "id": "1d70f8ed-9825-4503-ba08-15e5a40ce4c5",
   "metadata": {},
   "outputs": [],
   "source": [
    "chain = SimpleSequentialChain(chains=[company_name_chain, company_strategies_chain])"
   ]
  },
  {
   "cell_type": "code",
   "execution_count": 11,
   "id": "245912a4-73ae-4c2b-b678-33835f5e1a72",
   "metadata": {},
   "outputs": [
    {
     "name": "stdout",
     "output_type": "stream",
     "text": [
      "{'input': 'headphones', 'output': \"\\n\\n1. Expand product offerings: Soundwave Audio can consider expanding its product line to include different types of audio equipment such as headphones, speakers, and microphones. This will help attract a wider customer base and increase revenue.\\n\\n2. Enhance online presence: In today's digital age, having a strong online presence is crucial for any business. Soundwave Audio can invest in building a user-friendly website, creating social media accounts, and utilizing digital marketing strategies to reach a larger audience.\\n\\n3. Collabor\"}\n"
     ]
    }
   ],
   "source": [
    "print(chain.invoke(\"headphones\"))"
   ]
  },
  {
   "cell_type": "markdown",
   "id": "4ff0e1f6-c1d5-4119-ac00-348f3d1c0724",
   "metadata": {},
   "source": [
    "### Multiple Chains using Simple Sequential Chaining"
   ]
  },
  {
   "cell_type": "code",
   "execution_count": 12,
   "id": "edaf3f8c-c353-46b3-a08a-1bbfa19ff34b",
   "metadata": {},
   "outputs": [],
   "source": [
    "from langchain.chains import SequentialChain"
   ]
  },
  {
   "cell_type": "code",
   "execution_count": 13,
   "id": "a59e5345-6e7b-4712-909d-c4bfc26982ea",
   "metadata": {},
   "outputs": [],
   "source": [
    "company_name_prompt = PromptTemplate.from_template(\"Suggest me a company name for making {product}\")\n",
    "company_name_chain = LLMChain(llm=client, prompt=company_name_prompt, output_key=\"company\")"
   ]
  },
  {
   "cell_type": "code",
   "execution_count": 14,
   "id": "5fd9b540-69c3-4da5-973c-95dc60c41d8d",
   "metadata": {},
   "outputs": [],
   "source": [
    "company_strategies_prompt = PromptTemplate.from_template(\"Suggest few strategies for the this company {company}\")\n",
    "company_strategies_chain = LLMChain(llm=client, prompt=company_strategies_prompt, output_key=\"strategies\")"
   ]
  },
  {
   "cell_type": "code",
   "execution_count": 15,
   "id": "f97a42a7-9521-48c5-bdc5-49b109b92dc4",
   "metadata": {},
   "outputs": [],
   "source": [
    "chain = SequentialChain(\n",
    "    chains=[company_name_chain, company_strategies_chain],\n",
    "    input_variables=[\"product\"],\n",
    "    output_variables=[\"company\", \"strategies\"]\n",
    ")"
   ]
  },
  {
   "cell_type": "code",
   "execution_count": 16,
   "id": "e8b4cfff-039c-40d7-9195-7cba36cd4577",
   "metadata": {},
   "outputs": [
    {
     "name": "stdout",
     "output_type": "stream",
     "text": [
      "{\n",
      "    \"product\": \"orange juice\",\n",
      "    \"company\": \"\\n\\n1. Zestful Juicers\\n2. Citrus Crush Co.\\n3. Orange Oasis\\n4. Sunkissed Sips\\n5. Tangy Twist Co.\\n6. Freshly Squeezed Co.\\n7. Zesty Zing Co.\\n8. Juice Me Up Co.\\n9. Orange Harvest Co.\\n10. The Juicy Orange Co.\",\n",
      "    \"strategies\": \"\\n\\n1. Expand product line: Consider expanding the product line to include other types of juices such as apple, grapefruit, and pineapple. This will appeal to a wider range of customers and increase sales potential.\\n\\n2. Collaborate with local businesses: Partner with local cafes, restaurants, and grocery stores to sell your juices. This will increase brand awareness and reach a larger customer base.\\n\\n3. Create a loyalty program: Offer discounts or free products to customers who frequently purchase from your company. This will\"\n",
      "}\n"
     ]
    }
   ],
   "source": [
    "print(json.dumps(chain.invoke(\"orange juice\"), indent=4))"
   ]
  },
  {
   "cell_type": "code",
   "execution_count": null,
   "id": "31555159-7a5b-4ab3-9959-da0a621b57e3",
   "metadata": {},
   "outputs": [],
   "source": []
  },
  {
   "cell_type": "code",
   "execution_count": null,
   "id": "f6735788-583f-438a-962e-545a4cd7345c",
   "metadata": {},
   "outputs": [],
   "source": []
  },
  {
   "cell_type": "code",
   "execution_count": null,
   "id": "0197917c-7f87-4350-9fe4-e9a0280bc895",
   "metadata": {},
   "outputs": [],
   "source": []
  },
  {
   "cell_type": "code",
   "execution_count": null,
   "id": "f4dd00c3-5e9d-4214-b6c1-1f34c0881c66",
   "metadata": {},
   "outputs": [],
   "source": []
  },
  {
   "cell_type": "code",
   "execution_count": null,
   "id": "ef8a5fc0-47db-48e8-b0ac-b5f370983120",
   "metadata": {},
   "outputs": [],
   "source": []
  }
 ],
 "metadata": {
  "kernelspec": {
   "display_name": "Python 3 (ipykernel)",
   "language": "python",
   "name": "python3"
  },
  "language_info": {
   "codemirror_mode": {
    "name": "ipython",
    "version": 3
   },
   "file_extension": ".py",
   "mimetype": "text/x-python",
   "name": "python",
   "nbconvert_exporter": "python",
   "pygments_lexer": "ipython3",
   "version": "3.10.12"
  }
 },
 "nbformat": 4,
 "nbformat_minor": 5
}
