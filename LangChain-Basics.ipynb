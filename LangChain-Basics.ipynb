{
 "cells": [
  {
   "cell_type": "code",
   "execution_count": 32,
   "id": "07acc2df-ddd4-454b-9948-a64daae25235",
   "metadata": {},
   "outputs": [],
   "source": [
    "import os\n",
    "from dotenv import load_dotenv"
   ]
  },
  {
   "cell_type": "code",
   "execution_count": 33,
   "id": "d348afd7-7ad2-4826-b223-d4ad41d72fd6",
   "metadata": {},
   "outputs": [
    {
     "data": {
      "text/plain": [
       "True"
      ]
     },
     "execution_count": 33,
     "metadata": {},
     "output_type": "execute_result"
    }
   ],
   "source": [
    "load_dotenv()"
   ]
  },
  {
   "cell_type": "code",
   "execution_count": 34,
   "id": "270e9202-1a37-4c02-9322-03cb87b4e880",
   "metadata": {},
   "outputs": [],
   "source": [
    "#os.getenv('OPENAI_API_KEY')"
   ]
  },
  {
   "cell_type": "markdown",
   "id": "65271992-28e1-42f6-a40a-beaaf11a3293",
   "metadata": {},
   "source": [
    "### OpenAI Chat"
   ]
  },
  {
   "cell_type": "code",
   "execution_count": 35,
   "id": "614eec6b-cb69-486c-b50d-57c62a27823c",
   "metadata": {},
   "outputs": [],
   "source": [
    "from langchain_openai import ChatOpenAI"
   ]
  },
  {
   "cell_type": "code",
   "execution_count": 36,
   "id": "7d96eb67-9dbf-49b7-be07-5017b9c6cdb2",
   "metadata": {},
   "outputs": [],
   "source": [
    "chat = ChatOpenAI(model=\"gpt-3.5-turbo\")"
   ]
  },
  {
   "cell_type": "code",
   "execution_count": 37,
   "id": "ac61cde0-800f-4732-8fc8-c93b255f85af",
   "metadata": {},
   "outputs": [
    {
     "data": {
      "text/plain": [
       "'Salut !'"
      ]
     },
     "execution_count": 37,
     "metadata": {},
     "output_type": "execute_result"
    }
   ],
   "source": [
    "from langchain_core.messages import HumanMessage, SystemMessage\n",
    "\n",
    "messages = [\n",
    "    SystemMessage(content=\"Translate the following from English into French\"),\n",
    "    HumanMessage(content=\"hi!\"),\n",
    "]\n",
    "\n",
    "result = chat.invoke(messages)\n",
    "result.content"
   ]
  },
  {
   "cell_type": "code",
   "execution_count": 38,
   "id": "c2ebcfa2-6191-4adb-a4fe-1100584d4eb4",
   "metadata": {},
   "outputs": [
    {
     "data": {
      "text/plain": [
       "7"
      ]
     },
     "execution_count": 38,
     "metadata": {},
     "output_type": "execute_result"
    }
   ],
   "source": [
    "chat.get_num_tokens(\"Translate the following from English into French\")"
   ]
  },
  {
   "cell_type": "markdown",
   "id": "01739a0d-f2d9-47dd-b191-dc909c4b671b",
   "metadata": {},
   "source": [
    "### OpenAI Functions"
   ]
  },
  {
   "cell_type": "code",
   "execution_count": null,
   "id": "c2bac5fa-3852-404a-8646-fa7592f39554",
   "metadata": {},
   "outputs": [],
   "source": []
  },
  {
   "cell_type": "code",
   "execution_count": 39,
   "id": "9d94ca24-65f7-4068-a4ec-e8752559e5c5",
   "metadata": {},
   "outputs": [],
   "source": [
    "from langchain import PromptTemplate\n",
    "from langchain_openai import OpenAI"
   ]
  },
  {
   "cell_type": "code",
   "execution_count": 40,
   "id": "36d0b550-e7a0-4047-b052-824e504abc0b",
   "metadata": {},
   "outputs": [],
   "source": [
    "template = '''You are a nutritionist. How many calories in {count} {food_name}'''\n",
    "prompt = PromptTemplate(\n",
    "    input_variables=['count', 'food_name'],\n",
    "    template=template\n",
    ")"
   ]
  },
  {
   "cell_type": "code",
   "execution_count": 41,
   "id": "190e6c5f-95c8-4618-8cdd-bee8acd0d15d",
   "metadata": {},
   "outputs": [],
   "source": [
    "llm = OpenAI(model ='gpt-4')\n",
    "#result = llm.invoke(prompt.format(count=1, food_name='banana'))\n",
    "#result.content"
   ]
  },
  {
   "cell_type": "code",
   "execution_count": null,
   "id": "33271f39-d7bc-4b43-8170-b70e1eb53177",
   "metadata": {},
   "outputs": [],
   "source": []
  },
  {
   "cell_type": "code",
   "execution_count": null,
   "id": "b42d3ab8-27fd-4a88-a91c-a26a3024124b",
   "metadata": {},
   "outputs": [],
   "source": []
  },
  {
   "cell_type": "code",
   "execution_count": null,
   "id": "13e2ab75-4fd0-446f-a3ae-f809b744093a",
   "metadata": {},
   "outputs": [],
   "source": []
  },
  {
   "cell_type": "code",
   "execution_count": null,
   "id": "e75567cf-208d-46bf-bd2f-e539d9daa0e6",
   "metadata": {},
   "outputs": [],
   "source": []
  }
 ],
 "metadata": {
  "kernelspec": {
   "display_name": "Python 3 (ipykernel)",
   "language": "python",
   "name": "python3"
  },
  "language_info": {
   "codemirror_mode": {
    "name": "ipython",
    "version": 3
   },
   "file_extension": ".py",
   "mimetype": "text/x-python",
   "name": "python",
   "nbconvert_exporter": "python",
   "pygments_lexer": "ipython3",
   "version": "3.10.12"
  }
 },
 "nbformat": 4,
 "nbformat_minor": 5
}
